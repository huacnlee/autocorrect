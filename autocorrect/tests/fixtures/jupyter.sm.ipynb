{
  "cells": [
    {
      "cell_type": "markdown",
      "metadata": {},
      "source": [
        "# CHAPTER 1时间序列\n",
        "python有标准包用来表示时间和日期数据datetime, time, calendar这些模块经常被使用。"
      ]
    },
    {
      "cell_type": "code",
      "execution_count": 27,
      "metadata": {
        "collapsed": true
      },
      "outputs": [],
      "source": [
        "# 这里是comment注释",
        "import pandas as pd"
      ]
    },
    {
      "source": [
        "## Hello世界\n",
        "Fixed periods固定的时期,比如2007年的一月，或者2010年整整一年"
      ],
      "cell_type": "markdown"
    },
    {
      "cell_type": "markdown",
      "source": [
        "## Hello世界1\n",
        "比如2007年的一月，或者2010年整整一年"
      ]
    }
  ]
}